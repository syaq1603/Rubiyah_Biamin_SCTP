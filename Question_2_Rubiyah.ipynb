{
 "cells": [
  {
   "cell_type": "code",
   "execution_count": 5,
   "id": "a89e141e",
   "metadata": {},
   "outputs": [],
   "source": [
    "def find_and_replace(lst, find_val, replace_val):\n",
    "    if not isinstance(lst, list):\n",
    "        raise TypeError(\"The first argument must be a list.\")\n",
    "    modified_list = [replace_val if item == find_val else item for item in lst]\n",
    "    return modified_list"
   ]
  },
  {
   "cell_type": "code",
   "execution_count": 9,
   "id": "cc1bc9c7",
   "metadata": {},
   "outputs": [
    {
     "name": "stdout",
     "output_type": "stream",
     "text": [
      "Original list: [1, 2, 3, 4, 2, 2]\n",
      "Modified list: [1, 5, 3, 4, 5, 5]\n"
     ]
    }
   ],
   "source": [
    "original_list = [1, 2, 3, 4, 2, 2]\n",
    "find_val = 2\n",
    "replace_val = 5\n",
    "\n",
    "result = find_and_replace(original_list, find_val, replace_val)\n",
    "print(\"Original list:\", original_list)\n",
    "print(\"Modified list:\", result)"
   ]
  },
  {
   "cell_type": "code",
   "execution_count": 10,
   "id": "9b6cd4a5",
   "metadata": {},
   "outputs": [],
   "source": [
    "def find_and_replace(lst, find_val, replace_val):\n",
    "    if not isinstance(lst, list):\n",
    "        raise TypeError(\"The first argument must be a list.\")\n",
    "    modified_list = [replace_val if item == find_val else item for item in lst]\n",
    "    return modified_list"
   ]
  },
  {
   "cell_type": "code",
   "execution_count": 11,
   "id": "8a8e9ce5",
   "metadata": {},
   "outputs": [
    {
     "name": "stdout",
     "output_type": "stream",
     "text": [
      "Original list: ['apple', 'banana', 'apple']\n",
      "Modified list: ['orange', 'banana', 'orange']\n"
     ]
    }
   ],
   "source": [
    "original_list = [\"apple\", \"banana\", \"apple\"] \n",
    "find_val = \"apple\"\n",
    "replace_val = \"orange\"\n",
    "\n",
    "result = find_and_replace(original_list, find_val, replace_val)\n",
    "print(\"Original list:\", original_list)\n",
    "print(\"Modified list:\", result)"
   ]
  },
  {
   "cell_type": "code",
   "execution_count": null,
   "id": "092370ed",
   "metadata": {},
   "outputs": [],
   "source": []
  }
 ],
 "metadata": {
  "kernelspec": {
   "display_name": "Python 3 (ipykernel)",
   "language": "python",
   "name": "python3"
  },
  "language_info": {
   "codemirror_mode": {
    "name": "ipython",
    "version": 3
   },
   "file_extension": ".py",
   "mimetype": "text/x-python",
   "name": "python",
   "nbconvert_exporter": "python",
   "pygments_lexer": "ipython3",
   "version": "3.9.13"
  }
 },
 "nbformat": 4,
 "nbformat_minor": 5
}
