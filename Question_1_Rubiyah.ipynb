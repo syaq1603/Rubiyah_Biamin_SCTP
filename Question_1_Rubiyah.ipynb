{
 "cells": [
  {
   "cell_type": "code",
   "execution_count": 2,
   "id": "250eed07",
   "metadata": {},
   "outputs": [
    {
     "name": "stdout",
     "output_type": "stream",
     "text": [
      "Enter the first number: Apple\n",
      "Invalid input! Please enter numbers only.\n"
     ]
    },
    {
     "data": {
      "text/plain": [
       "-1"
      ]
     },
     "execution_count": 2,
     "metadata": {},
     "output_type": "execute_result"
    }
   ],
   "source": [
    "def swap_values(x=None,y=None): \n",
    "    while x is None or y is None:\n",
    "        try:\n",
    "            if x is None:\n",
    "                x = float(input(\"Enter the first number: \"))\n",
    "            if y is None:\n",
    "                y = float(input(\"Enter the second number: \"))\n",
    "        except ValueError:\n",
    "            print(\"Invalid input! Please enter numbers only.\")\n",
    "            return -1\n",
    "        \n",
    "    if not (isinstance(x, (int, float)) and isinstance(y, (int, float))):\n",
    "        print(\"Invalid input! Please enter numbers only.\" )\n",
    "        x = None\n",
    "        y = None\n",
    "    \n",
    "    x = x + y\n",
    "    y = x - y\n",
    "    x = x - y\n",
    "    \n",
    "    print (\"Swapped values: x =\", x, \", y =\", y)\n",
    "    return (x, y)\n",
    "\n",
    "\n",
    "swap_values()"
   ]
  },
  {
   "cell_type": "code",
   "execution_count": 3,
   "id": "f1b7dfd5",
   "metadata": {},
   "outputs": [
    {
     "name": "stdout",
     "output_type": "stream",
     "text": [
      "Enter the first number: 9\n",
      "Enter the second number: 17\n",
      "Swapped values: x = 17.0 , y = 9.0\n"
     ]
    },
    {
     "data": {
      "text/plain": [
       "(17.0, 9.0)"
      ]
     },
     "execution_count": 3,
     "metadata": {},
     "output_type": "execute_result"
    }
   ],
   "source": [
    "def swap_values(x=None,y=None): \n",
    "    while x is None or y is None:\n",
    "        try:\n",
    "            if x is None:\n",
    "                x = float(input(\"Enter the first number: \"))\n",
    "            if y is None:\n",
    "                y = float(input(\"Enter the second number: \"))\n",
    "        except ValueError:\n",
    "            print(\"Invalid input! Please enter numbers only.\")\n",
    "            return -1\n",
    "        \n",
    "    if not (isinstance(x, (int, float)) and isinstance(y, (int, float))):\n",
    "        print(\"Invalid input! Please enter numbers only.\" )\n",
    "        x = None\n",
    "        y = None\n",
    "    \n",
    "    x = x + y\n",
    "    y = x - y\n",
    "    x = x - y\n",
    "    \n",
    "    print (\"Swapped values: x =\", x, \", y =\", y)\n",
    "    return (x, y)\n",
    "\n",
    "\n",
    "swap_values()"
   ]
  },
  {
   "cell_type": "code",
   "execution_count": null,
   "id": "d0da7258",
   "metadata": {},
   "outputs": [],
   "source": []
  }
 ],
 "metadata": {
  "kernelspec": {
   "display_name": "Python 3 (ipykernel)",
   "language": "python",
   "name": "python3"
  },
  "language_info": {
   "codemirror_mode": {
    "name": "ipython",
    "version": 3
   },
   "file_extension": ".py",
   "mimetype": "text/x-python",
   "name": "python",
   "nbconvert_exporter": "python",
   "pygments_lexer": "ipython3",
   "version": "3.9.13"
  }
 },
 "nbformat": 4,
 "nbformat_minor": 5
}
