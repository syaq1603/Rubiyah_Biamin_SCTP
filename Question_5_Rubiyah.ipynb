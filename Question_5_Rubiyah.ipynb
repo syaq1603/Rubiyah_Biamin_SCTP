{
 "cells": [
  {
   "cell_type": "code",
   "execution_count": 1,
   "id": "7ef807dc",
   "metadata": {},
   "outputs": [],
   "source": [
    "def is_divisible(num, divisor):\n",
    "    if not (isinstance(num, (int, float)) and isinstance(divisor, (int, float))):\n",
    "        raise TypeError(\"Both num and divisor must be numeric.\")\n",
    "    if divisor == 0:\n",
    "        raise ValueError(\"Divisor cannot be zero.\")\n",
    "    return num % divisor == 0"
   ]
  },
  {
   "cell_type": "code",
   "execution_count": 2,
   "id": "37cc93cd",
   "metadata": {},
   "outputs": [
    {
     "name": "stdout",
     "output_type": "stream",
     "text": [
      "True\n",
      "False\n"
     ]
    }
   ],
   "source": [
    "print(is_divisible(10, 2))  \n",
    "print(is_divisible(7, 3))  \n",
    "\n"
   ]
  },
  {
   "cell_type": "code",
   "execution_count": null,
   "id": "8499c81d",
   "metadata": {},
   "outputs": [],
   "source": []
  }
 ],
 "metadata": {
  "kernelspec": {
   "display_name": "Python 3 (ipykernel)",
   "language": "python",
   "name": "python3"
  },
  "language_info": {
   "codemirror_mode": {
    "name": "ipython",
    "version": 3
   },
   "file_extension": ".py",
   "mimetype": "text/x-python",
   "name": "python",
   "nbconvert_exporter": "python",
   "pygments_lexer": "ipython3",
   "version": "3.9.13"
  }
 },
 "nbformat": 4,
 "nbformat_minor": 5
}
