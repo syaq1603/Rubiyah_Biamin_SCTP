{
 "cells": [
  {
   "cell_type": "code",
   "execution_count": 1,
   "id": "e6ab0b86",
   "metadata": {},
   "outputs": [],
   "source": [
    "def find_first_negative(lst):\n",
    "    \n",
    "    if not isinstance(lst, list):\n",
    "        raise TypeError(\"The input must be a list.\")\n",
    "\n",
    "    index = 0\n",
    "    while index < len(lst):\n",
    "        if isinstance(lst[index], (int, float)) and lst[index] < 0:\n",
    "            return lst[index]\n",
    "        index += 1\n",
    "\n",
    "    return \"No negatives\"\n"
   ]
  },
  {
   "cell_type": "code",
   "execution_count": 2,
   "id": "2bb82dee",
   "metadata": {},
   "outputs": [
    {
     "name": "stdout",
     "output_type": "stream",
     "text": [
      "First negative number: -1\n"
     ]
    }
   ],
   "source": [
    "# Task 2\n",
    "numbers = [3, 5, -1, 7, -2, 8]\n",
    "result = find_first_negative(numbers)\n",
    "print(\"First negative number:\", result)\n"
   ]
  },
  {
   "cell_type": "code",
   "execution_count": 3,
   "id": "33d800d3",
   "metadata": {},
   "outputs": [
    {
     "name": "stdout",
     "output_type": "stream",
     "text": [
      "First negative number: No negatives\n"
     ]
    }
   ],
   "source": [
    "numbers_no_negatives = [2, 10, 7, 0]\n",
    "result_no_negatives = find_first_negative(numbers_no_negatives)\n",
    "print(\"First negative number:\", result_no_negatives)"
   ]
  },
  {
   "cell_type": "code",
   "execution_count": null,
   "id": "85018209",
   "metadata": {},
   "outputs": [],
   "source": []
  }
 ],
 "metadata": {
  "kernelspec": {
   "display_name": "Python 3 (ipykernel)",
   "language": "python",
   "name": "python3"
  },
  "language_info": {
   "codemirror_mode": {
    "name": "ipython",
    "version": 3
   },
   "file_extension": ".py",
   "mimetype": "text/x-python",
   "name": "python",
   "nbconvert_exporter": "python",
   "pygments_lexer": "ipython3",
   "version": "3.9.13"
  }
 },
 "nbformat": 4,
 "nbformat_minor": 5
}
