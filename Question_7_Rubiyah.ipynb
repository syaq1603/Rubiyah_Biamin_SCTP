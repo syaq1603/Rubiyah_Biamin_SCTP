{
 "cells": [
  {
   "cell_type": "code",
   "execution_count": 4,
   "id": "00b68bba",
   "metadata": {},
   "outputs": [],
   "source": [
    "#Task 1\n",
    "class Car:\n",
    "   \n",
    "    def __init__(self, make, model, year):\n",
    "        \n",
    "        self.make = make\n",
    "        self.model = model\n",
    "        self.year = year\n",
    "\n",
    "    def describe_car(self):\n",
    "        print(f\"{self.year} {self.make} {self.model}\")\n"
   ]
  },
  {
   "cell_type": "code",
   "execution_count": 5,
   "id": "a839ae19",
   "metadata": {},
   "outputs": [
    {
     "name": "stdout",
     "output_type": "stream",
     "text": [
      "2020 Toyota Corolla\n"
     ]
    }
   ],
   "source": [
    "# Task 2\n",
    "my_car = Car(\"Toyota\", \"Corolla\", 2020)\n",
    "my_car.describe_car()  \n"
   ]
  },
  {
   "cell_type": "code",
   "execution_count": null,
   "id": "0f2f655c",
   "metadata": {},
   "outputs": [],
   "source": []
  }
 ],
 "metadata": {
  "kernelspec": {
   "display_name": "Python 3 (ipykernel)",
   "language": "python",
   "name": "python3"
  },
  "language_info": {
   "codemirror_mode": {
    "name": "ipython",
    "version": 3
   },
   "file_extension": ".py",
   "mimetype": "text/x-python",
   "name": "python",
   "nbconvert_exporter": "python",
   "pygments_lexer": "ipython3",
   "version": "3.9.13"
  }
 },
 "nbformat": 4,
 "nbformat_minor": 5
}
