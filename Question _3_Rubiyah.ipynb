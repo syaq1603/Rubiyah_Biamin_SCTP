{
 "cells": [
  {
   "cell_type": "code",
   "execution_count": 1,
   "id": "ab3a8617",
   "metadata": {},
   "outputs": [],
   "source": [
    "def update_dictionary(dct, key, value):\n",
    " \n",
    "    if not isinstance(dct, dict):\n",
    "        raise TypeError(\"The first argument must be a dictionary.\")\n",
    "\n",
    "    # Check if the key already exists\n",
    "    if key in dct:\n",
    "        print(f\"Key '{key}' already exists with value: {dct[key]}\")\n",
    "    \n",
    "    # Update the dictionary\n",
    "    dct[key] = value\n",
    "    return dct\n",
    "\n",
    "\n"
   ]
  },
  {
   "cell_type": "code",
   "execution_count": 2,
   "id": "95ca8f21",
   "metadata": {},
   "outputs": [
    {
     "name": "stdout",
     "output_type": "stream",
     "text": [
      "Key 'age' already exists with value: 25\n",
      "Updated dictionary: {'name': 'Alice', 'age': 26}\n"
     ]
    }
   ],
   "source": [
    "original_dict = {\"name\": \"Alice\", \"age\": 25}\n",
    "\n",
    "# Updating an existing key\n",
    "updated_dict = update_dictionary(original_dict, \"age\", 26)\n",
    "\n",
    "print(\"Updated dictionary:\", updated_dict)"
   ]
  },
  {
   "cell_type": "code",
   "execution_count": null,
   "id": "bdfaf8c9",
   "metadata": {},
   "outputs": [],
   "source": []
  }
 ],
 "metadata": {
  "kernelspec": {
   "display_name": "Python 3 (ipykernel)",
   "language": "python",
   "name": "python3"
  },
  "language_info": {
   "codemirror_mode": {
    "name": "ipython",
    "version": 3
   },
   "file_extension": ".py",
   "mimetype": "text/x-python",
   "name": "python",
   "nbconvert_exporter": "python",
   "pygments_lexer": "ipython3",
   "version": "3.9.13"
  }
 },
 "nbformat": 4,
 "nbformat_minor": 5
}
